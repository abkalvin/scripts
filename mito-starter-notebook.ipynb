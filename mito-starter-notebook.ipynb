{
 "cells": [
  {
   "cell_type": "code",
   "execution_count": 6,
   "id": "c0957234-ba57-4199-adfa-9d17ede0b8f9",
   "metadata": {},
   "outputs": [
    {
     "data": {
      "application/vnd.jupyter.widget-view+json": {
       "model_id": "606011ea36654ba1aeccd1fe925ee691",
       "version_major": 2,
       "version_minor": 0
      },
      "text/plain": [
       "MitoWidget(analysis_data_json='{\"analysisName\": \"id-vtwssfftzb\", \"analysisToReplay\": {\"analysisName\": \"id-tkaq…"
      ]
     },
     "metadata": {},
     "output_type": "display_data"
    }
   ],
   "source": [
    "# Run this cell to render a mitosheet\n",
    "# See mito's documentation here: https://docs.trymito.io/how-to/creating-a-mitosheet\n",
    "# Join our Discord for support here: https://discord.gg/XdJSZyejJU\n",
    "\n",
    "import mitosheet\n",
    "import plotly.express as px\n",
    "mitosheet.sheet(analysis_to_replay=\"id-tkaqpwplkq\")"
   ]
  },
  {
   "cell_type": "code",
   "execution_count": null,
   "id": "1d5eb295",
   "metadata": {},
   "outputs": [],
   "source": [
    "from mitosheet import *; register_analysis(\"id-tkaqpwplkq\");\n",
    "    \n",
    "# Imported car data.csv\n",
    "import pandas as pd\n",
    "car_data = pd.read_csv(r'C:\\car data.csv')\n",
    "\n",
    "# Sorted Car_Name in descending order\n",
    "car_data = car_data.sort_values(by='Car_Name', ascending=False, na_position='last')\n",
    "\n",
    "# Pivoted into car_data\n",
    "tmp_df = car_data[['Selling_Price', 'Year', 'Car_Name']]\n",
    "pivot_table = tmp_df.pivot_table(\n",
    "    index=['Car_Name'],\n",
    "    columns=['Year'],\n",
    "    values=['Selling_Price'],\n",
    "    aggfunc={'Selling_Price': ['count']}\n",
    ")\n",
    "pivot_table.set_axis([flatten_column_header(col) for col in pivot_table.keys()], axis=1, inplace=True)\n",
    "car_data_pivot = pivot_table.reset_index()\n",
    "\n",
    "# Changed Year to dtype str\n",
    "car_data['Year'] = car_data['Year'].astype('str')\n",
    "\n",
    "# Changed Selling_Price count 2003 to dtype int\n",
    "car_data_pivot['Selling_Price count 2003'] = car_data_pivot['Selling_Price count 2003'].fillna(0).astype('int')\n",
    "\n",
    "# Deleted car_data_pivot\n",
    "del car_data_pivot\n",
    "\n",
    "# Pivoted into car_data\n",
    "tmp_df = car_data[['Selling_Price', 'Year', 'Car_Name']]\n",
    "pivot_table = tmp_df.pivot_table(\n",
    "    index=['Car_Name'],\n",
    "    columns=['Year'],\n",
    "    values=['Selling_Price'],\n",
    "    aggfunc={'Selling_Price': ['count']}\n",
    ")\n",
    "pivot_table.set_axis([flatten_column_header(col) for col in pivot_table.keys()], axis=1, inplace=True)\n",
    "car_data_pivot = pivot_table.reset_index()\n",
    "\n",
    "# Changed Selling_Price count 2003 to dtype int\n",
    "car_data_pivot['Selling_Price count 2003'] = car_data_pivot['Selling_Price count 2003'].fillna(0).astype('int')\n"
   ]
  },
  {
   "cell_type": "code",
   "execution_count": 8,
   "id": "c4c01916",
   "metadata": {},
   "outputs": [
    {
     "data": {
      "text/html": [
       "<iframe\n",
       "    scrolling=\"no\"\n",
       "    width=\"100%\"\n",
       "    height=\"545px\"\n",
       "    src=\"iframe_figures/figure_8.html\"\n",
       "    frameborder=\"0\"\n",
       "    allowfullscreen\n",
       "></iframe>\n"
      ]
     },
     "metadata": {},
     "output_type": "display_data"
    }
   ],
   "source": [
    "import plotly.express as px\n",
    "# Construct the graph and style it. Further customize your graph by editing this code.\n",
    "# See Plotly Documentation for help: https://plotly.com/python/plotly-express/\n",
    "import pandas as pd\n",
    "car_data = pd.read_csv(r'C:\\car data.csv')\n",
    "\n",
    "fig = px.bar(car_data, x='Car_Name', y='Year')\n",
    "fig.update_layout(\n",
    "    title='Car_Name, Year bar chart', \n",
    "    xaxis = dict(\n",
    "        showgrid=True, \n",
    "        rangeslider = dict(\n",
    "            visible=True, \n",
    "            thickness=0.05\n",
    "        )\n",
    "    ), \n",
    "    yaxis = dict(\n",
    "        showgrid=True\n",
    "    ), \n",
    "    legend = dict(\n",
    "        orientation='v'\n",
    "    ), \n",
    "    barmode='group', \n",
    "    paper_bgcolor='#FFFFFF'\n",
    ")\n",
    "fig.show(renderer=\"iframe\")"
   ]
  },
  {
   "cell_type": "code",
   "execution_count": null,
   "id": "d8f3db5d",
   "metadata": {},
   "outputs": [],
   "source": [
    "from mitosheet import *; register_analysis(\"id-tkaqpwplkq\");\n",
    "    \n",
    "# Imported car data.csv\n",
    "import pandas as pd\n",
    "car_data = pd.read_csv(r'C:\\car data.csv')\n",
    "\n",
    "# Sorted Car_Name in descending order\n",
    "car_data = car_data.sort_values(by='Car_Name', ascending=False, na_position='last')\n",
    "\n",
    "# Pivoted into car_data\n",
    "tmp_df = car_data[['Selling_Price', 'Year', 'Car_Name']]\n",
    "pivot_table = tmp_df.pivot_table(\n",
    "    index=['Car_Name'],\n",
    "    columns=['Year'],\n",
    "    values=['Selling_Price'],\n",
    "    aggfunc={'Selling_Price': ['count']}\n",
    ")\n",
    "pivot_table.set_axis([flatten_column_header(col) for col in pivot_table.keys()], axis=1, inplace=True)\n",
    "car_data_pivot = pivot_table.reset_index()\n",
    "\n",
    "# Changed Year to dtype str\n",
    "car_data['Year'] = car_data['Year'].astype('str')\n"
   ]
  },
  {
   "cell_type": "code",
   "execution_count": 2,
   "id": "80c89fcb",
   "metadata": {},
   "outputs": [
    {
     "ename": "NameError",
     "evalue": "name 'car_data' is not defined",
     "output_type": "error",
     "traceback": [
      "\u001b[1;31m---------------------------------------------------------------------------\u001b[0m",
      "\u001b[1;31mNameError\u001b[0m                                 Traceback (most recent call last)",
      "Input \u001b[1;32mIn [2]\u001b[0m, in \u001b[0;36m<cell line: 4>\u001b[1;34m()\u001b[0m\n\u001b[0;32m      1\u001b[0m \u001b[38;5;28;01mimport\u001b[39;00m \u001b[38;5;21;01mplotly\u001b[39;00m\u001b[38;5;21;01m.\u001b[39;00m\u001b[38;5;21;01mexpress\u001b[39;00m \u001b[38;5;28;01mas\u001b[39;00m \u001b[38;5;21;01mpx\u001b[39;00m\n\u001b[0;32m      2\u001b[0m \u001b[38;5;66;03m# Construct the graph and style it. Further customize your graph by editing this code.\u001b[39;00m\n\u001b[0;32m      3\u001b[0m \u001b[38;5;66;03m# See Plotly Documentation for help: https://plotly.com/python/plotly-express/\u001b[39;00m\n\u001b[1;32m----> 4\u001b[0m fig \u001b[38;5;241m=\u001b[39m px\u001b[38;5;241m.\u001b[39mbar(\u001b[43mcar_data\u001b[49m, x\u001b[38;5;241m=\u001b[39m\u001b[38;5;124m'\u001b[39m\u001b[38;5;124mCar_Name\u001b[39m\u001b[38;5;124m'\u001b[39m, y\u001b[38;5;241m=\u001b[39m\u001b[38;5;124m'\u001b[39m\u001b[38;5;124mYear\u001b[39m\u001b[38;5;124m'\u001b[39m)\n\u001b[0;32m      5\u001b[0m fig\u001b[38;5;241m.\u001b[39mupdate_layout(\n\u001b[0;32m      6\u001b[0m     title\u001b[38;5;241m=\u001b[39m\u001b[38;5;124m'\u001b[39m\u001b[38;5;124mCar_Name, Year bar chart\u001b[39m\u001b[38;5;124m'\u001b[39m, \n\u001b[0;32m      7\u001b[0m     xaxis \u001b[38;5;241m=\u001b[39m \u001b[38;5;28mdict\u001b[39m(\n\u001b[1;32m   (...)\u001b[0m\n\u001b[0;32m     21\u001b[0m     paper_bgcolor\u001b[38;5;241m=\u001b[39m\u001b[38;5;124m'\u001b[39m\u001b[38;5;124m#FFFFFF\u001b[39m\u001b[38;5;124m'\u001b[39m\n\u001b[0;32m     22\u001b[0m )\n\u001b[0;32m     23\u001b[0m fig\u001b[38;5;241m.\u001b[39mshow(renderer\u001b[38;5;241m=\u001b[39m\u001b[38;5;124m\"\u001b[39m\u001b[38;5;124miframe\u001b[39m\u001b[38;5;124m\"\u001b[39m)\n",
      "\u001b[1;31mNameError\u001b[0m: name 'car_data' is not defined"
     ]
    }
   ],
   "source": [
    "import plotly.express as px\n",
    "# Construct the graph and style it. Further customize your graph by editing this code.\n",
    "# See Plotly Documentation for help: https://plotly.com/python/plotly-express/\n",
    "fig = px.bar(car_data, x='Car_Name', y='Year')\n",
    "fig.update_layout(\n",
    "    title='Car_Name, Year bar chart', \n",
    "    xaxis = dict(\n",
    "        showgrid=True, \n",
    "        rangeslider = dict(\n",
    "            visible=True, \n",
    "            thickness=0.05\n",
    "        )\n",
    "    ), \n",
    "    yaxis = dict(\n",
    "        showgrid=True\n",
    "    ), \n",
    "    legend = dict(\n",
    "        orientation='v'\n",
    "    ), \n",
    "    barmode='group', \n",
    "    paper_bgcolor='#FFFFFF'\n",
    ")\n",
    "fig.show(renderer=\"iframe\")"
   ]
  },
  {
   "cell_type": "code",
   "execution_count": null,
   "id": "c53f7377",
   "metadata": {},
   "outputs": [],
   "source": []
  }
 ],
 "metadata": {
  "kernelspec": {
   "display_name": "Python 3 (ipykernel)",
   "language": "python",
   "name": "python3"
  },
  "language_info": {
   "codemirror_mode": {
    "name": "ipython",
    "version": 3
   },
   "file_extension": ".py",
   "mimetype": "text/x-python",
   "name": "python",
   "nbconvert_exporter": "python",
   "pygments_lexer": "ipython3",
   "version": "3.9.5"
  },
  "widgets": {
   "application/vnd.jupyter.widget-state+json": {
    "state": {},
    "version_major": 2,
    "version_minor": 0
   }
  }
 },
 "nbformat": 4,
 "nbformat_minor": 5
}
